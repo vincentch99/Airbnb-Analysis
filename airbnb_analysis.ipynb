{
 "cells": [
  {
   "cell_type": "code",
   "execution_count": 2,
   "metadata": {},
   "outputs": [
    {
     "ename": "ModuleNotFoundError",
     "evalue": "No module named 'matplotlib'",
     "output_type": "error",
     "traceback": [
      "\u001b[1;31m---------------------------------------------------------------------------\u001b[0m",
      "\u001b[1;31mModuleNotFoundError\u001b[0m                       Traceback (most recent call last)",
      "\u001b[1;32mc:\\Users\\vchendrawan\\Desktop\\Airbnb-Analysis\\airbnb_analysis.ipynb Cell 1\u001b[0m line \u001b[0;36m1\n\u001b[1;32m----> <a href='vscode-notebook-cell:/c%3A/Users/vchendrawan/Desktop/Airbnb-Analysis/airbnb_analysis.ipynb#W0sZmlsZQ%3D%3D?line=0'>1</a>\u001b[0m \u001b[39mimport\u001b[39;00m \u001b[39mmatplotlib\u001b[39;00m\u001b[39m.\u001b[39;00m\u001b[39mpyplot\u001b[39;00m \u001b[39mas\u001b[39;00m \u001b[39mplt\u001b[39;00m\n\u001b[0;32m      <a href='vscode-notebook-cell:/c%3A/Users/vchendrawan/Desktop/Airbnb-Analysis/airbnb_analysis.ipynb#W0sZmlsZQ%3D%3D?line=1'>2</a>\u001b[0m \u001b[39mfrom\u001b[39;00m \u001b[39mpathlib\u001b[39;00m \u001b[39mimport\u001b[39;00m Path\n\u001b[0;32m      <a href='vscode-notebook-cell:/c%3A/Users/vchendrawan/Desktop/Airbnb-Analysis/airbnb_analysis.ipynb#W0sZmlsZQ%3D%3D?line=2'>3</a>\u001b[0m \u001b[39mimport\u001b[39;00m \u001b[39mseaborn\u001b[39;00m \u001b[39mas\u001b[39;00m \u001b[39msns\u001b[39;00m\n",
      "\u001b[1;31mModuleNotFoundError\u001b[0m: No module named 'matplotlib'"
     ]
    }
   ],
   "source": [
    "import pandas as pd\n",
    "import numpy as np\n",
    "from pathlib import Path\n",
    "import matplotlib.pyplot as plt"
   ]
  },
  {
   "cell_type": "code",
   "execution_count": null,
   "metadata": {},
   "outputs": [],
   "source": [
    "p = Path.cwd() / \"./drive/MyDrive/Udacity/seattle_airbnb\"\n",
    "b = Path.cwd() / \"./drive/MyDrive/Udacity/boston_airbnb\"\n",
    "\n",
    "seattle_calendar = pd.read_csv(p / \".//calendar.csv\")\n",
    "listings = pd.read_csv(p / \".//listings.csv\")\n",
    "reviews = pd.read_csv(p / \".//reviews.csv\")\n",
    "\n",
    "boston_calendar = pd.read_csv(b/ './/calendar.csv')"
   ]
  },
  {
   "cell_type": "code",
   "execution_count": null,
   "metadata": {},
   "outputs": [],
   "source": [
    "## CALENDAR ANALYSIS\n",
    "pd.options.mode.copy_on_write = True\n",
    "df_s = seattle_calendar.dropna()\n",
    "df_b = boston_calendar.dropna()\n",
    "seattle_results = {'average_price': None,\n",
    "                   'average_price_per_month': None,\n",
    "                   'busiest_month': None}\n",
    "boston_results = {'average_price': None,\n",
    "                  'average_price_per_month': None,\n",
    "                  'busiest_month': None}\n",
    "# Seattle\n",
    "df_s['date'] = pd.to_datetime(df_s['date'])\n",
    "df_s['month'] = df_s['date'].dt.month\n",
    "df_s['year'] = df_s['date'].dt.year\n",
    "df_s['price'] = pd.to_numeric(df_s['price'].str.replace('[\\$,]', '', regex=True), errors='coerce')\n",
    "\n",
    "seattle_results['average_price'] = df_s['price'].mean()\n",
    "seattle_results['average_price_per_month'] = df_s.groupby(['year','month'])['price'].mean()\n",
    "seattle_results['busiest_month'] = df_s.groupby(['month'])['listing_id'].count().sort_values(ascending=True).tail(3)\n",
    "print(f'The busiest times to visit Seattle are month {[i for i in seattle_results[\"busiest_month\"].index]}')\n",
    "print(f'Average price per night in Seattle is ${round(seattle_results[\"average_price\"])}\\n ')\n",
    "\n",
    "# Boston\n",
    "df_b['date'] = pd.to_datetime(df_b['date'])\n",
    "df_b['month'] = df_b['date'].dt.month\n",
    "df_b['year'] = df_b['date'].dt.year\n",
    "df_b['price'] = pd.to_numeric(df_b['price'].str.replace('[\\$,]', '', regex=True), errors='coerce')\n",
    "\n",
    "boston_results['average_price'] = df_b['price'].mean()\n",
    "boston_results['average_price_per_month'] = df_b.groupby(['year','month'])['price'].mean()\n",
    "boston_results['busiest_month'] = df_b.groupby(['month'])['listing_id'].count().sort_values(ascending=True).tail(3)\n",
    "print(f'The busiest times to visit Boston are month {[i for i in boston_results[\"busiest_month\"].index]}')\n",
    "print(f'Average price per night in Boston is ${round(boston_results[\"average_price\"])} ')"
   ]
  },
  {
   "cell_type": "code",
   "execution_count": null,
   "metadata": {},
   "outputs": [],
   "source": [
    "sea = seattle_results['average_price_per_month'].plot()\n",
    "bos = boston_results['average_price_per_month'].plot()\n",
    "plt.legend(labels=['seattle', 'boston'])\n",
    "plt.title('Average Price per Month')\n",
    "plt.xlabel('Year, Month')\n",
    "plt.ylabel('Average Price per Night ($)')\n",
    "plt.grid(True)\n",
    "plt.show()"
   ]
  }
 ],
 "metadata": {
  "kernelspec": {
   "display_name": "Python 3",
   "language": "python",
   "name": "python3"
  },
  "language_info": {
   "codemirror_mode": {
    "name": "ipython",
    "version": 3
   },
   "file_extension": ".py",
   "mimetype": "text/x-python",
   "name": "python",
   "nbconvert_exporter": "python",
   "pygments_lexer": "ipython3",
   "version": "3.12.2"
  }
 },
 "nbformat": 4,
 "nbformat_minor": 2
}
